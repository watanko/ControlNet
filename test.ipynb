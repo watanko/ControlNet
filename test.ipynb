{
 "cells": [
  {
   "cell_type": "code",
   "execution_count": 33,
   "metadata": {},
   "outputs": [
    {
     "data": {
      "text/plain": [
       "True"
      ]
     },
     "execution_count": 33,
     "metadata": {},
     "output_type": "execute_result"
    }
   ],
   "source": [
    "from share import *\n",
    "import config\n",
    "\n",
    "import cv2\n",
    "import einops\n",
    "import gradio as gr\n",
    "import numpy as np\n",
    "import torch\n",
    "import random\n",
    "\n",
    "from pytorch_lightning import seed_everything\n",
    "from annotator.util import resize_image, HWC3\n",
    "from annotator.uniformer import UniformerDetector\n",
    "from cldm.model import create_model, load_state_dict\n",
    "from cldm.ddim_hacked import DDIMSampler\n",
    "\n",
    "from pyqart import QrPainter, QrImagePrinter\n",
    "\n",
    "apply_uniformer = UniformerDetector()\n",
    "\n",
    "model = create_model('./models/cldm_v15.yaml').cpu()\n",
    "model.load_state_dict(load_state_dict('./models/control_sd15_seg.pth', location='cuda'))\n",
    "model = model.cuda()\n",
    "ddim_sampler = DDIMSampler(model)\n",
    "\n",
    "\n",
    "def process(prompt, a_prompt, n_prompt, num_samples, ddim_steps, guess_mode, strength, scale, seed, eta):\n",
    "    with torch.no_grad():\n",
    "        QR_VERSION = 5\n",
    "        module_size = 20\n",
    "        W = H = 512\n",
    "        painter = QrPainter('http://www.nankai.edu.cn/', QR_VERSION)\n",
    "        qrbin = QrImagePrinter.print(painter, point_width=1)\n",
    "        qrbin = np.array(qrbin.convert('L'))\n",
    "        qrbin = qrbin.repeat(module_size,axis=0).repeat(module_size, axis=1)\n",
    "        qrbin = cv2.resize(qrbin, (W, H), interpolation=cv2.INTER_NEAREST)\n",
    "\n",
    "        qr_anno = np.zeros((qrbin.shape[0], qrbin.shape[1], 3) )\n",
    "        qr_anno[qrbin == 255] = np.array([180, 120, 120])\n",
    "        qr_anno[qrbin == 0] = np.array([2, 226, 231])\n",
    "\n",
    "        control = torch.from_numpy(qr_anno.copy()).float().cuda() / 255.0\n",
    "        control = torch.stack([control for _ in range(num_samples)], dim=0)\n",
    "        control = einops.rearrange(control, 'b h w c -> b c h w').clone()\n",
    "\n",
    "        if seed == -1:\n",
    "            seed = random.randint(0, 65535)\n",
    "        seed_everything(seed)\n",
    "\n",
    "        if config.save_memory:\n",
    "            model.low_vram_shift(is_diffusing=False)\n",
    "\n",
    "        cond = {\"c_concat\": [control], \"c_crossattn\": [model.get_learned_conditioning([prompt + ', ' + a_prompt] * num_samples)]}\n",
    "        un_cond = {\"c_concat\": None if guess_mode else [control], \"c_crossattn\": [model.get_learned_conditioning([n_prompt] * num_samples)]}\n",
    "        shape = (4, H // 8, W // 8)\n",
    "\n",
    "        if config.save_memory:\n",
    "            model.low_vram_shift(is_diffusing=True)\n",
    "\n",
    "        model.control_scales = [strength * (0.825 ** float(12 - i)) for i in range(13)] if guess_mode else ([strength] * 13)  # Magic number. IDK why. Perhaps because 0.825**12<0.01 but 0.826**12>0.01\n",
    "        samples, intermediates = ddim_sampler.sample(ddim_steps, num_samples,\n",
    "                                                     shape, cond, verbose=False, eta=eta,\n",
    "                                                     unconditional_guidance_scale=scale,\n",
    "                                                     unconditional_conditioning=un_cond)\n",
    "\n",
    "        if config.save_memory:\n",
    "            model.low_vram_shift(is_diffusing=False)\n",
    "\n",
    "        x_samples = model.decode_first_stage(samples)\n",
    "        x_samples = (einops.rearrange(x_samples, 'b c h w -> b h w c') * 127.5 + 127.5).cpu().numpy().clip(0, 255).astype(np.uint8)\n",
    "\n",
    "        results = [x_samples[i] for i in range(num_samples)]\n",
    "    return [qr_anno] + results"
   ]
  },
  {
   "cell_type": "code",
   "execution_count": 35,
   "metadata": {},
   "outputs": [
    {
     "data": {
      "text/plain": [
       "array([[255, 255, 255, ..., 255, 255, 255],\n",
       "       [255, 255, 255, ..., 255, 255, 255],\n",
       "       [255, 255, 255, ..., 255, 255, 255],\n",
       "       ...,\n",
       "       [255, 255, 255, ..., 255, 255, 255],\n",
       "       [255, 255, 255, ..., 255, 255, 255],\n",
       "       [255, 255, 255, ..., 255, 255, 255]], dtype=uint8)"
      ]
     },
     "execution_count": 35,
     "metadata": {},
     "output_type": "execute_result"
    }
   ],
   "source": [
    "qrbin"
   ]
  },
  {
   "cell_type": "code",
   "execution_count": 38,
   "metadata": {},
   "outputs": [],
   "source": [
    "qr_anno = np.zeros( (qrbin.shape[0], qrbin.shape[1], 3) )\n",
    "qr_anno[qrbin == 255] = np.array([230, 230, 6])\n",
    "qr_anno[qrbin == 0] = np.array([3, 200, 4])"
   ]
  },
  {
   "cell_type": "code",
   "execution_count": 40,
   "metadata": {},
   "outputs": [
    {
     "data": {
      "text/plain": [
       "array([[[230., 230.,   6.],\n",
       "        [230., 230.,   6.],\n",
       "        [230., 230.,   6.],\n",
       "        ...,\n",
       "        [230., 230.,   6.],\n",
       "        [230., 230.,   6.],\n",
       "        [230., 230.,   6.]],\n",
       "\n",
       "       [[230., 230.,   6.],\n",
       "        [230., 230.,   6.],\n",
       "        [230., 230.,   6.],\n",
       "        ...,\n",
       "        [230., 230.,   6.],\n",
       "        [230., 230.,   6.],\n",
       "        [230., 230.,   6.]],\n",
       "\n",
       "       [[230., 230.,   6.],\n",
       "        [230., 230.,   6.],\n",
       "        [230., 230.,   6.],\n",
       "        ...,\n",
       "        [230., 230.,   6.],\n",
       "        [230., 230.,   6.],\n",
       "        [230., 230.,   6.]],\n",
       "\n",
       "       ...,\n",
       "\n",
       "       [[230., 230.,   6.],\n",
       "        [230., 230.,   6.],\n",
       "        [230., 230.,   6.],\n",
       "        ...,\n",
       "        [230., 230.,   6.],\n",
       "        [230., 230.,   6.],\n",
       "        [230., 230.,   6.]],\n",
       "\n",
       "       [[230., 230.,   6.],\n",
       "        [230., 230.,   6.],\n",
       "        [230., 230.,   6.],\n",
       "        ...,\n",
       "        [230., 230.,   6.],\n",
       "        [230., 230.,   6.],\n",
       "        [230., 230.,   6.]],\n",
       "\n",
       "       [[230., 230.,   6.],\n",
       "        [230., 230.,   6.],\n",
       "        [230., 230.,   6.],\n",
       "        ...,\n",
       "        [230., 230.,   6.],\n",
       "        [230., 230.,   6.],\n",
       "        [230., 230.,   6.]]])"
      ]
     },
     "execution_count": 40,
     "metadata": {},
     "output_type": "execute_result"
    }
   ],
   "source": [
    "qr_anno"
   ]
  },
  {
   "cell_type": "code",
   "execution_count": 29,
   "metadata": {},
   "outputs": [
    {
     "data": {
      "text/plain": [
       "40621500"
      ]
     },
     "execution_count": 29,
     "metadata": {},
     "output_type": "execute_result"
    }
   ],
   "source": [
    "np.sum(black_mask)"
   ]
  },
  {
   "cell_type": "code",
   "execution_count": 18,
   "metadata": {},
   "outputs": [
    {
     "ename": "ValueError",
     "evalue": "NumPy boolean array indexing assignment cannot assign 3 input values to the 548775 output values where the mask is true",
     "output_type": "error",
     "traceback": [
      "\u001b[0;31m---------------------------------------------------------------------------\u001b[0m",
      "\u001b[0;31mValueError\u001b[0m                                Traceback (most recent call last)",
      "Cell \u001b[0;32mIn[18], line 1\u001b[0m\n\u001b[0;32m----> 1\u001b[0m qrbin[qrbin \u001b[39m==\u001b[39;49m [\u001b[39m255\u001b[39;49m, \u001b[39m255\u001b[39;49m, \u001b[39m255\u001b[39;49m]] \u001b[39m=\u001b[39m [\u001b[39m230\u001b[39m, \u001b[39m230\u001b[39m, \u001b[39m6\u001b[39m]\n",
      "\u001b[0;31mValueError\u001b[0m: NumPy boolean array indexing assignment cannot assign 3 input values to the 548775 output values where the mask is true"
     ]
    }
   ],
   "source": [
    "qrbin[qrbin == [255, 255, 255]] = [230, 230, 6]"
   ]
  },
  {
   "cell_type": "code",
   "execution_count": 41,
   "metadata": {},
   "outputs": [],
   "source": [
    "import cv2 \n",
    "seg = cv2.imread('seg.jpg')"
   ]
  },
  {
   "cell_type": "code",
   "execution_count": 43,
   "metadata": {},
   "outputs": [
    {
     "data": {
      "text/plain": [
       "(512, 512, 3)"
      ]
     },
     "execution_count": 43,
     "metadata": {},
     "output_type": "execute_result"
    }
   ],
   "source": [
    "seg.shape"
   ]
  },
  {
   "cell_type": "code",
   "execution_count": null,
   "metadata": {},
   "outputs": [],
   "source": []
  }
 ],
 "metadata": {
  "kernelspec": {
   "display_name": "control",
   "language": "python",
   "name": "python3"
  },
  "language_info": {
   "codemirror_mode": {
    "name": "ipython",
    "version": 3
   },
   "file_extension": ".py",
   "mimetype": "text/x-python",
   "name": "python",
   "nbconvert_exporter": "python",
   "pygments_lexer": "ipython3",
   "version": "3.8.5"
  },
  "orig_nbformat": 4,
  "vscode": {
   "interpreter": {
    "hash": "2fa4639bb43ef5d6865456eea88320402c1840770e071f4d3d36141803cb963a"
   }
  }
 },
 "nbformat": 4,
 "nbformat_minor": 2
}
